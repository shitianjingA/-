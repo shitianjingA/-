{
 "cells": [
  {
   "cell_type": "code",
   "execution_count": 3,
   "id": "0e453ce3-0e3b-461c-9af3-b5a57b9d2467",
   "metadata": {
    "scrolled": true
   },
   "outputs": [
    {
     "name": "stdout",
     "output_type": "stream",
     "text": [
      "0.8399415137186793\n",
      "0.9572957997214163\n",
      "0.2811665978128842\n",
      "0.7713840323144023\n",
      "0.7957135047714425\n",
      "0.7675277355780312\n",
      "0.7817355493331639\n",
      "0.25017622660312255\n",
      "0.8057885859030015\n"
     ]
    }
   ],
   "source": [
    "import random#随机数0-1\n",
    "for i in [1,2,3,5,6,7,8,9,10]:\n",
    "    m_i=random.random()\n",
    "    print(m_i)"
   ]
  },
  {
   "cell_type": "code",
   "execution_count": 4,
   "id": "73975e4f-b418-4d0e-a4e9-bfdfe7034601",
   "metadata": {},
   "outputs": [],
   "source": [
    "import matplotlib#数据可视化"
   ]
  },
  {
   "cell_type": "code",
   "execution_count": 5,
   "id": "5e01dd38-4333-4486-82ca-ab17370364bc",
   "metadata": {},
   "outputs": [
    {
     "name": "stdout",
     "output_type": "stream",
     "text": [
      "[1, 2, 3, 4, 5, 6] [2, 3, 4, 5, 6, 7]\n"
     ]
    }
   ],
   "source": [
    "x=[1,2,3,4,5,6]\n",
    "y=[2,3,4,5,6,7]\n",
    "print(x,y)"
   ]
  },
  {
   "cell_type": "code",
   "execution_count": 9,
   "id": "8e76750f-da94-4ab3-8605-8d77ce43d9f9",
   "metadata": {},
   "outputs": [
    {
     "data": {
      "image/png": "[encoded data removed]",
      "text/plain": [
       "<Figure size 500x500 with 1 Axes>"
      ]
     },
     "metadata": {},
     "output_type": "display_data"
    }
   ],
   "source": [
    "from matplotlib import pyplot as plt\n",
    "%matplotlib inline\n",
    "figl=plt.figure(figsize=(5,5))#figure图形实例实例 figsize图形大小\n",
    "plt.plot(x,y)\n",
    "plt.title('y vs x')\n",
    "plt.xlabel('x')\n",
    "plt.ylabel('y')\n",
    "plt.show()"
   ]
  },
  {
   "cell_type": "code",
   "execution_count": 10,
   "id": "f8efa71a-4317-4f46-8544-3227185ed552",
   "metadata": {},
   "outputs": [
    {
     "data": {
      "image/png": "[encoded data removed]",
      "text/plain": [
       "<Figure size 500x500 with 1 Axes>"
      ]
     },
     "metadata": {},
     "output_type": "display_data"
    }
   ],
   "source": [
    "fig2=plt.figure(figsize=(5,5))#figure图形实例实例 figsize图形大小\n",
    "plt.scatter(x,y)\n",
    "plt.title('y vs x')\n",
    "plt.xlabel('x')\n",
    "plt.ylabel('y')\n",
    "plt.show()"
   ]
  },
  {
   "cell_type": "code",
   "execution_count": 11,
   "id": "6a0147ea-736c-4560-9754-1cb61f9cc9a3",
   "metadata": {},
   "outputs": [],
   "source": [
    "import numpy as np#数组运算"
   ]
  },
  {
   "cell_type": "code",
   "execution_count": 19,
   "id": "d9fb48c1-abc5-4294-8d67-221fe8f5cc3d",
   "metadata": {},
   "outputs": [
    {
     "name": "stdout",
     "output_type": "stream",
     "text": [
      "<class 'numpy.ndarray'> [[1. 0. 0. 0. 0.]\n",
      " [0. 1. 0. 0. 0.]\n",
      " [0. 0. 1. 0. 0.]\n",
      " [0. 0. 0. 1. 0.]\n",
      " [0. 0. 0. 0. 1.]]\n"
     ]
    }
   ],
   "source": [
    "a=np.eye(5)#对角线为1的矩阵\n",
    "print(type(a),a)"
   ]
  },
  {
   "cell_type": "code",
   "execution_count": 20,
   "id": "32d38f08-f15f-46a2-8c92-b153fe7cbc72",
   "metadata": {},
   "outputs": [
    {
     "name": "stdout",
     "output_type": "stream",
     "text": [
      "[1. 1. 1. 1. 1.]\n"
     ]
    }
   ],
   "source": [
    "b=np.ones(5)#默认一行\n",
    "print(b)"
   ]
  },
  {
   "cell_type": "code",
   "execution_count": 22,
   "id": "20e94dad-59d2-4762-ac11-9f89f3f8c7cf",
   "metadata": {},
   "outputs": [
    {
     "name": "stdout",
     "output_type": "stream",
     "text": [
      "[[1. 1. 1. 1. 1.]\n",
      " [1. 1. 1. 1. 1.]\n",
      " [1. 1. 1. 1. 1.]\n",
      " [1. 1. 1. 1. 1.]\n",
      " [1. 1. 1. 1. 1.]]\n",
      "(5, 5)\n"
     ]
    }
   ],
   "source": [
    "b=np.ones([5,5])\n",
    "print(b)\n",
    "print(b.shape)#查看维度"
   ]
  },
  {
   "cell_type": "code",
   "execution_count": 23,
   "id": "7fe38033-605f-4828-872d-9e060a17a5f7",
   "metadata": {},
   "outputs": [
    {
     "name": "stdout",
     "output_type": "stream",
     "text": [
      "[[2. 1. 1. 1. 1.]\n",
      " [1. 2. 1. 1. 1.]\n",
      " [1. 1. 2. 1. 1.]\n",
      " [1. 1. 1. 2. 1.]\n",
      " [1. 1. 1. 1. 2.]]\n"
     ]
    }
   ],
   "source": [
    "c=a+b\n",
    "print(c)"
   ]
  },
  {
   "cell_type": "code",
   "execution_count": 32,
   "id": "e69c6da9-3b55-4fe1-a1ec-410229d3c737",
   "metadata": {},
   "outputs": [
    {
     "name": "stdout",
     "output_type": "stream",
     "text": [
      "<class 'pandas.core.frame.DataFrame'>\n",
      "     x    y\n",
      "0    0    0\n",
      "1    1    1\n",
      "2    2    4\n",
      "3    3    9\n",
      "4    4   16\n",
      "5    5   25\n",
      "6    6   36\n",
      "7    7   49\n",
      "8    8   64\n",
      "9    9   81\n",
      "10  10  100\n",
      "11  11  121\n",
      "12  12  144\n",
      "13  13  169\n"
     ]
    }
   ],
   "source": [
    "import pandas as pd#DataFrame数据表格类型，打开表格pandas保存数据\n",
    "data=pd.read_csv('text.csv')\n",
    "print(type(data))\n",
    "print(data)"
   ]
  },
  {
   "cell_type": "code",
   "execution_count": 34,
   "id": "b2c93ca8-ab91-4345-bdad-8f23778bcd7f",
   "metadata": {},
   "outputs": [
    {
     "name": "stdout",
     "output_type": "stream",
     "text": [
      "0      0\n",
      "1      1\n",
      "2      2\n",
      "3      3\n",
      "4      4\n",
      "5      5\n",
      "6      6\n",
      "7      7\n",
      "8      8\n",
      "9      9\n",
      "10    10\n",
      "11    11\n",
      "12    12\n",
      "13    13\n",
      "Name: x, dtype: int64\n",
      "<class 'pandas.core.series.Series'>\n"
     ]
    }
   ],
   "source": [
    "x=data.loc[:,'x']#所有行loc定位数据\n",
    "print(x)\n",
    "print(type(x))#Series序列类型   y同理"
   ]
  },
  {
   "cell_type": "code",
   "execution_count": 40,
   "id": "290c3e17-3b19-48a9-90e6-c1cfed6cb130",
   "metadata": {},
   "outputs": [
    {
     "name": "stdout",
     "output_type": "stream",
     "text": [
      "0     0\n",
      "1     1\n",
      "2     4\n",
      "3     9\n",
      "4    16\n",
      "5    25\n",
      "6    36\n",
      "7    49\n",
      "8    64\n",
      "9    81\n",
      "Name: y, dtype: int64\n"
     ]
    }
   ],
   "source": [
    "d=data.loc[:,'y'][x < 10]#x < 10  y的值\n",
    "\n",
    "print(d)\n"
   ]
  },
  {
   "cell_type": "code",
   "execution_count": 41,
   "id": "6f722b16-ab4c-465b-a146-2f838c2fcca5",
   "metadata": {},
   "outputs": [
    {
     "name": "stdout",
     "output_type": "stream",
     "text": [
      "[[  0   0]\n",
      " [  1   1]\n",
      " [  2   4]\n",
      " [  3   9]\n",
      " [  4  16]\n",
      " [  5  25]\n",
      " [  6  36]\n",
      " [  7  49]\n",
      " [  8  64]\n",
      " [  9  81]\n",
      " [ 10 100]\n",
      " [ 11 121]\n",
      " [ 12 144]\n",
      " [ 13 169]]\n",
      "[[  0   0]\n",
      " [  1   1]\n",
      " [  2   4]\n",
      " [  3   9]\n",
      " [  4  16]\n",
      " [  5  25]\n",
      " [  6  36]\n",
      " [  7  49]\n",
      " [  8  64]\n",
      " [  9  81]\n",
      " [ 10 100]\n",
      " [ 11 121]\n",
      " [ 12 144]\n",
      " [ 13 169]]\n"
     ]
    }
   ],
   "source": [
    "data_array=np.array(data)\n",
    "print(data_array)\n",
    "print(data_array)#转化为数组"
   ]
  },
  {
   "cell_type": "code",
   "execution_count": 43,
   "id": "4717e8c6-0cd7-479e-8d73-4ea32a187e2b",
   "metadata": {},
   "outputs": [
    {
     "name": "stdout",
     "output_type": "stream",
     "text": [
      "     x    y\n",
      "0   10   10\n",
      "1   11   11\n",
      "2   12   14\n",
      "3   13   19\n",
      "4   14   26\n",
      "5   15   35\n",
      "6   16   46\n",
      "7   17   59\n",
      "8   18   74\n",
      "9   19   91\n",
      "10  20  110\n",
      "11  21  131\n",
      "12  22  154\n",
      "13  23  179\n"
     ]
    },
    {
     "data": {
      "text/html": [
       "<div>\n",
       "<style scoped>\n",
       "    .dataframe tbody tr th:only-of-type {\n",
       "        vertical-align: middle;\n",
       "    }\n",
       "\n",
       "    .dataframe tbody tr th {\n",
       "        vertical-align: top;\n",
       "    }\n",
       "\n",
       "    .dataframe thead th {\n",
       "        text-align: right;\n",
       "    }\n",
       "</style>\n",
       "<table border=\"1\" class=\"dataframe\">\n",
       "  <thead>\n",
       "    <tr style=\"text-align: right;\">\n",
       "      <th></th>\n",
       "      <th>x</th>\n",
       "      <th>y</th>\n",
       "    </tr>\n",
       "  </thead>\n",
       "  <tbody>\n",
       "    <tr>\n",
       "      <th>0</th>\n",
       "      <td>10</td>\n",
       "      <td>10</td>\n",
       "    </tr>\n",
       "    <tr>\n",
       "      <th>1</th>\n",
       "      <td>11</td>\n",
       "      <td>11</td>\n",
       "    </tr>\n",
       "    <tr>\n",
       "      <th>2</th>\n",
       "      <td>12</td>\n",
       "      <td>14</td>\n",
       "    </tr>\n",
       "    <tr>\n",
       "      <th>3</th>\n",
       "      <td>13</td>\n",
       "      <td>19</td>\n",
       "    </tr>\n",
       "    <tr>\n",
       "      <th>4</th>\n",
       "      <td>14</td>\n",
       "      <td>26</td>\n",
       "    </tr>\n",
       "  </tbody>\n",
       "</table>\n",
       "</div>"
      ],
      "text/plain": [
       "    x   y\n",
       "0  10  10\n",
       "1  11  11\n",
       "2  12  14\n",
       "3  13  19\n",
       "4  14  26"
      ]
     },
     "execution_count": 43,
     "metadata": {},
     "output_type": "execute_result"
    }
   ],
   "source": [
    "data_new=data +10\n",
    "print(data_new)\n",
    "data_new.head()#部分数据"
   ]
  },
  {
   "cell_type": "code",
   "execution_count": 46,
   "id": "147a276b-3294-419f-ac5f-16184e269900",
   "metadata": {},
   "outputs": [],
   "source": [
    "#保存数据\n",
    "data_new.to_csv('text1.csv',index=None)#index=None去掉索引"
   ]
  }
 ],
 "metadata": {
  "kernelspec": {
   "display_name": "Python 3 (ipykernel)",
   "language": "python",
   "name": "python3"
  },
  "language_info": {
   "codemirror_mode": {
    "name": "ipython",
    "version": 3
   },
   "file_extension": ".py",
   "mimetype": "text/x-python",
   "name": "python",
   "nbconvert_exporter": "python",
   "pygments_lexer": "ipython3",
   "version": "3.12.3"
  }
 },
 "nbformat": 4,
 "nbformat_minor": 5
}
